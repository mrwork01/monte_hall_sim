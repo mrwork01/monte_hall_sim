{
 "cells": [
  {
   "cell_type": "code",
   "execution_count": 2,
   "metadata": {},
   "outputs": [],
   "source": [
    "import pandas as pd\n",
    "import random"
   ]
  },
  {
   "cell_type": "markdown",
   "metadata": {},
   "source": [
    "## Define Number of Games to Simulate"
   ]
  },
  {
   "cell_type": "code",
   "execution_count": 3,
   "metadata": {},
   "outputs": [],
   "source": [
    "trials = 10000"
   ]
  },
  {
   "cell_type": "markdown",
   "metadata": {},
   "source": [
    "## Initiate DataFrame to Collect Game Data"
   ]
  },
  {
   "cell_type": "code",
   "execution_count": 4,
   "metadata": {},
   "outputs": [],
   "source": [
    "df_results = pd.DataFrame(columns = ['game_num', 'pick_door', 'car_door', 'win'])"
   ]
  },
  {
   "cell_type": "markdown",
   "metadata": {},
   "source": [
    "## Simulate Games and Record Data in DataFrame"
   ]
  },
  {
   "cell_type": "code",
   "execution_count": 7,
   "metadata": {},
   "outputs": [
    {
     "name": "stdout",
     "output_type": "stream",
     "text": [
      "     game_num pick_door car_door win\n",
      "0           0         1        2   1\n",
      "1           1         2        3   1\n",
      "2           2         3        3   0\n",
      "3           3         2        2   0\n",
      "4           4         2        1   1\n",
      "...       ...       ...      ...  ..\n",
      "9995     9995         2        1   1\n",
      "9996     9996         1        3   1\n",
      "9997     9997         2        3   1\n",
      "9998     9998         1        1   0\n",
      "9999     9999         2        1   1\n",
      "\n",
      "[10000 rows x 4 columns]\n"
     ]
    }
   ],
   "source": [
    "for i in range(trials):\n",
    "    car = random.randint(1,3)\n",
    "    pick = random.randint(1,3)\n",
    "    \n",
    "    if car == pick:\n",
    "        win = 0\n",
    "    \n",
    "    else:\n",
    "        win = 1\n",
    "        \n",
    "    df_results.loc[i] = [i, pick, car, win]\n",
    "\n",
    "print(df_results)"
   ]
  },
  {
   "cell_type": "code",
   "execution_count": 8,
   "metadata": {},
   "outputs": [],
   "source": [
    "df_results.to_csv('game_results.csv')"
   ]
  }
 ],
 "metadata": {
  "kernelspec": {
   "display_name": "Python 3",
   "language": "python",
   "name": "python3"
  },
  "language_info": {
   "codemirror_mode": {
    "name": "ipython",
    "version": 3
   },
   "file_extension": ".py",
   "mimetype": "text/x-python",
   "name": "python",
   "nbconvert_exporter": "python",
   "pygments_lexer": "ipython3",
   "version": "3.8.12"
  }
 },
 "nbformat": 4,
 "nbformat_minor": 2
}
