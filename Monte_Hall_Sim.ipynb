{
 "cells": [
  {
   "cell_type": "code",
   "execution_count": 1,
   "metadata": {},
   "outputs": [],
   "source": [
    "import random"
   ]
  },
  {
   "cell_type": "code",
   "execution_count": 2,
   "metadata": {},
   "outputs": [],
   "source": [
    "wins = 0\n",
    "losses = 0\n",
    "trials = 10000"
   ]
  },
  {
   "cell_type": "code",
   "execution_count": 3,
   "metadata": {},
   "outputs": [],
   "source": [
    "for int in range(trials):\n",
    "    car = random.randint(1,3)\n",
    "    pick = random.randint(1,3)\n",
    "    \n",
    "    if car == pick:\n",
    "        losses += 1\n",
    "    \n",
    "    else:\n",
    "        wins += 1"
   ]
  },
  {
   "cell_type": "code",
   "execution_count": 4,
   "metadata": {},
   "outputs": [
    {
     "name": "stdout",
     "output_type": "stream",
     "text": [
      "Total Wins: 6645\n",
      "Total Losses: 3355\n",
      "Win Percentage: 66.45%\n"
     ]
    }
   ],
   "source": [
    "print(\"Total Wins: \" + str(wins))\n",
    "print(\"Total Losses: \" + str(losses))\n",
    "win_per = wins / trials\n",
    "print(\"Win Percentage: \" + str(win_per * 100) + \"%\")"
   ]
  },
  {
   "cell_type": "code",
   "execution_count": null,
   "metadata": {},
   "outputs": [],
   "source": []
  }
 ],
 "metadata": {
  "kernelspec": {
   "display_name": "Python 3",
   "language": "python",
   "name": "python3"
  },
  "language_info": {
   "codemirror_mode": {
    "name": "ipython",
    "version": 3
   },
   "file_extension": ".py",
   "mimetype": "text/x-python",
   "name": "python",
   "nbconvert_exporter": "python",
   "pygments_lexer": "ipython3",
   "version": "3.7.4"
  }
 },
 "nbformat": 4,
 "nbformat_minor": 2
}
